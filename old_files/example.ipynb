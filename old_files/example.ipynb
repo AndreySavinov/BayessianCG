{
 "cells": [
  {
   "cell_type": "code",
   "execution_count": 2,
   "metadata": {},
   "outputs": [
    {
     "data": {
      "text/plain": [
       "(tensor([[ 1.0000],\n",
       "         [ 3.9999],\n",
       "         [10.0000]], dtype=torch.float64), [tensor([[0.1055],\n",
       "          [0.4219],\n",
       "          [0.9492]], dtype=torch.float64), tensor([[-0.2224],\n",
       "          [-0.8897],\n",
       "          [ 0.4202]], dtype=torch.float64), tensor([[0.0864],\n",
       "          [0.3455],\n",
       "          [0.9850]], dtype=torch.float64)], tensor([[35.6665]], dtype=torch.float64))"
      ]
     },
     "execution_count": 2,
     "metadata": {},
     "output_type": "execute_result"
    }
   ],
   "source": [
    "import numpy as np\n",
    "import torch\n",
    "from BCG import BCG\n",
    "\n",
    "A = torch.tensor(np.array([[1, 0, 0], [0, 1, 0], [0, 0, 0.9]]), dtype=torch.double)\n",
    "b = torch.tensor(np.array([[1, 4, 9]]).T, dtype=torch.double)\n",
    "\n",
    "prior_mean = torch.tensor(np.array([[0, 0, 0]]).T, dtype=torch.double)\n",
    "prior_cov = torch.tensor(np.linalg.inv(A))\n",
    "eps = 1e-3\n",
    "m_max = 10\n",
    "\n",
    "bcg = BCG(A, b, prior_mean, prior_cov, eps, m_max)\n",
    "bcg.bcg()"
   ]
  }
 ],
 "metadata": {
  "kernelspec": {
   "display_name": "Python 3",
   "language": "python",
   "name": "python3"
  },
  "language_info": {
   "codemirror_mode": {
    "name": "ipython",
    "version": 3
   },
   "file_extension": ".py",
   "mimetype": "text/x-python",
   "name": "python",
   "nbconvert_exporter": "python",
   "pygments_lexer": "ipython3",
   "version": "3.6.3"
  }
 },
 "nbformat": 4,
 "nbformat_minor": 2
}
