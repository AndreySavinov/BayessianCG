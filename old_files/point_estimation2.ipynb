{
 "cells": [
  {
   "cell_type": "code",
   "execution_count": 14,
   "metadata": {},
   "outputs": [],
   "source": [
    "import torch\n",
    "import numpy as np\n",
    "import scipy.sparse as ss\n",
    "import scipy.io\n",
    "import matplotlib.pyplot as plt\n",
    "%matplotlib inline"
   ]
  },
  {
   "cell_type": "code",
   "execution_count": 145,
   "metadata": {},
   "outputs": [],
   "source": [
    "class BCG():\n",
    "    \n",
    "    def __init__(self, A, b, prior_mean, prior_cov, eps, m_max):\n",
    "        \n",
    "        self.A = A\n",
    "        self.b = b\n",
    "        self.x0 = prior_mean\n",
    "        self.sigma0 = prior_cov\n",
    "        self.eps = eps\n",
    "        self.max = m_max\n",
    "\n",
    "    def bcg(self):\n",
    "        \n",
    "        sigmaF = [] #np.concatenate?\n",
    "        \n",
    "        A = self.A\n",
    "        b = self.b\n",
    "        x0 = self.x0\n",
    "        sigma0 = self.sigma0\n",
    "        eps = self.eps\n",
    "        m_max = self.max\n",
    "      #  print(torch.mm(A, x0).shape)\n",
    "        r_m = b - torch.mm(A, x0)\n",
    "        r_m_dot_r_m = torch.mm(r_m.t(), r_m)\n",
    "        s_m = r_m\n",
    "        x_m = x0\n",
    "        \n",
    "        nu_m = 0\n",
    "        m = 0\n",
    "        d = b.shape[0]\n",
    "        \n",
    "        while True:\n",
    "            \n",
    "            sigma_At_s = torch.mm(sigma0, torch.mm(A.t(), s_m))\n",
    "            A_sigma_A_s = torch.mm(A, sigma_At_s)\n",
    "            \n",
    "            E_2 = torch.mm(s_m.t(), A_sigma_A_s)\n",
    "            alpha_m = r_m_dot_r_m / E_2\n",
    "            x_m += alpha_m * sigma_At_s\n",
    "            r_m -= alpha_m * A_sigma_A_s\n",
    "            nu_m += r_m_dot_r_m * r_m_dot_r_m / E_2\n",
    "            sigma_m = ((d - 1 - m) * nu_m / (m + 1)).sqrt() ##??\n",
    "            prev_r_m_dot_r_m = r_m_dot_r_m\n",
    "            r_m_dot_r_m = torch.mm(r_m.t(), r_m)\n",
    "            E = E_2.sqrt()\n",
    "            sigmaF.append(sigma_At_s / E)\n",
    "            \n",
    "            m +=1\n",
    "            \n",
    "            beta_m = r_m_dot_r_m / prev_r_m_dot_r_m\n",
    "            s_m = r_m + beta_m *s_m\n",
    "            \n",
    "            #add minimal no of iterations\n",
    "            if sigma_m < eps:\n",
    "               # print(E_2)\n",
    "                break\n",
    "            '''else sqrt(r_m_dot_r_m) < eps: - traditional residual-minimising strategy\n",
    "                break'''\n",
    "            if m == m_max or m == d:\n",
    "                \n",
    "                raise\n",
    "                \n",
    "        return x_m, sigmaF, nu_m/m"
   ]
  },
  {
   "cell_type": "code",
   "execution_count": 46,
   "metadata": {},
   "outputs": [
    {
     "data": {
      "text/plain": [
       "(tensor([[ 1.0000],\n",
       "         [ 3.9999],\n",
       "         [10.0000]], dtype=torch.float64), [tensor([[0.1055],\n",
       "          [0.4219],\n",
       "          [0.9492]], dtype=torch.float64), tensor([[-0.2224],\n",
       "          [-0.8897],\n",
       "          [ 0.4202]], dtype=torch.float64), tensor([[0.0864],\n",
       "          [0.3455],\n",
       "          [0.9850]], dtype=torch.float64)], tensor([[35.6665]], dtype=torch.float64))"
      ]
     },
     "execution_count": 46,
     "metadata": {},
     "output_type": "execute_result"
    }
   ],
   "source": [
    "A = torch.tensor(np.array([[1, 0, 0], [0, 1, 0], [0, 0, 0.9]]), dtype=torch.double)\n",
    "b = torch.tensor(np.array([[1, 4, 9]]).T, dtype=torch.double)\n",
    "\n",
    "prior_mean = torch.tensor(np.array([[0, 0, 0]]).T, dtype=torch.double)\n",
    "prior_cov = torch.tensor(np.linalg.inv(A))\n",
    "eps = 1e-3\n",
    "m_max = 10\n",
    "\n",
    "bcg = BCG(A, b, prior_mean, prior_cov, eps, m_max)\n",
    "bcg.bcg()"
   ]
  },
  {
   "cell_type": "code",
   "execution_count": 193,
   "metadata": {},
   "outputs": [],
   "source": [
    "A = scipy.io.loadmat('sparse_matrix.mat')['spmat']\n",
    "x = np.random.normal(size=100)\n",
    "b = A.dot(x)"
   ]
  },
  {
   "cell_type": "code",
   "execution_count": 194,
   "metadata": {},
   "outputs": [],
   "source": [
    "A_dense = A.todense()"
   ]
  },
  {
   "cell_type": "code",
   "execution_count": 195,
   "metadata": {},
   "outputs": [],
   "source": [
    "#prior_mean = torch.zeros([100])\n",
    "prior_cov = torch.diag(torch.ones(100)).double()\n",
    "A = torch.tensor(A_dense)\n"
   ]
  },
  {
   "cell_type": "code",
   "execution_count": 196,
   "metadata": {},
   "outputs": [],
   "source": [
    "b = torch.tensor(b[np.newaxis, :].T, dtype=torch.double)"
   ]
  },
  {
   "cell_type": "code",
   "execution_count": 199,
   "metadata": {},
   "outputs": [],
   "source": [
    "prior_mean = torch.tensor(np.zeros(100)[np.newaxis, :].T, dtype=torch.double)\n",
    "#prior_cov = torch.tensor(np.linalg.inv(A))\n",
    "eps = 1e-3\n",
    "m_max = 100\n",
    "\n",
    "bcg = BCG(A, b, prior_mean, prior_cov, eps, m_max)\n",
    "res= bcg.bcg()"
   ]
  },
  {
   "cell_type": "code",
   "execution_count": 200,
   "metadata": {},
   "outputs": [
    {
     "data": {
      "text/plain": [
       "135.5385094862896"
      ]
     },
     "execution_count": 200,
     "metadata": {},
     "output_type": "execute_result"
    }
   ],
   "source": [
    "np.linalg.norm(np.array(res[0]) - x)"
   ]
  },
  {
   "cell_type": "code",
   "execution_count": null,
   "metadata": {},
   "outputs": [],
   "source": []
  }
 ],
 "metadata": {
  "kernelspec": {
   "display_name": "Python 3",
   "language": "python",
   "name": "python3"
  },
  "language_info": {
   "codemirror_mode": {
    "name": "ipython",
    "version": 3
   },
   "file_extension": ".py",
   "mimetype": "text/x-python",
   "name": "python",
   "nbconvert_exporter": "python",
   "pygments_lexer": "ipython3",
   "version": "3.7.3"
  }
 },
 "nbformat": 4,
 "nbformat_minor": 2
}
