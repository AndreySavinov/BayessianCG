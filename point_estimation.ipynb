{
 "cells": [
  {
   "cell_type": "code",
   "execution_count": 1,
   "metadata": {},
   "outputs": [],
   "source": [
    "import torch\n",
    "import numpy as np\n",
    "from scipy.io import loadmat\n",
    "from BCG_ichol import BCG, ichol\n",
    "from scipy.sparse.linalg import inv\n",
    "from scipy.sparse import csc_matrix\n",
    "from scipy.sparse.linalg import cg"
   ]
  },
  {
   "cell_type": "markdown",
   "metadata": {},
   "source": [
    "## Point estimation via BCG"
   ]
  },
  {
   "cell_type": "code",
   "execution_count": 2,
   "metadata": {},
   "outputs": [],
   "source": [
    "A_csc = loadmat('sparse_matrix.mat')['spmat']"
   ]
  },
  {
   "cell_type": "code",
   "execution_count": 3,
   "metadata": {},
   "outputs": [],
   "source": [
    "A = torch.tensor(A_csc.toarray(), dtype=torch.double)"
   ]
  },
  {
   "cell_type": "code",
   "execution_count": 4,
   "metadata": {},
   "outputs": [],
   "source": [
    "L = ichol(A)"
   ]
  },
  {
   "cell_type": "code",
   "execution_count": 5,
   "metadata": {
    "scrolled": true
   },
   "outputs": [
    {
     "name": "stdout",
     "output_type": "stream",
     "text": [
      "tensor(0.1398, dtype=torch.float64)\n"
     ]
    }
   ],
   "source": [
    "print(((L.mm(L.t()) - A)**2).sum()/((A**2).sum()))"
   ]
  },
  {
   "cell_type": "code",
   "execution_count": 6,
   "metadata": {},
   "outputs": [],
   "source": [
    "L = csc_matrix(L.data.numpy())"
   ]
  },
  {
   "cell_type": "code",
   "execution_count": 7,
   "metadata": {},
   "outputs": [],
   "source": [
    "P = L.dot(L.T)"
   ]
  },
  {
   "cell_type": "code",
   "execution_count": 8,
   "metadata": {},
   "outputs": [
    {
     "name": "stdout",
     "output_type": "stream",
     "text": [
      "5.27075007834948\n"
     ]
    }
   ],
   "source": [
    "print(np.linalg.norm(P.toarray()-A_csc.toarray()))"
   ]
  },
  {
   "cell_type": "code",
   "execution_count": 16,
   "metadata": {},
   "outputs": [],
   "source": [
    "torch.manual_seed(100);"
   ]
  },
  {
   "cell_type": "code",
   "execution_count": 17,
   "metadata": {},
   "outputs": [],
   "source": [
    "x = torch.randn((A.shape[0],1), dtype=torch.double)\n",
    "b = A.mm(x)"
   ]
  },
  {
   "cell_type": "code",
   "execution_count": 18,
   "metadata": {},
   "outputs": [],
   "source": [
    "x_numpy = x.data.numpy().reshape(100,)"
   ]
  },
  {
   "cell_type": "markdown",
   "metadata": {},
   "source": [
    "## Choose preconditioner"
   ]
  },
  {
   "cell_type": "code",
   "execution_count": 19,
   "metadata": {},
   "outputs": [],
   "source": [
    "invP = inv(P).toarray()\n",
    "invA = inv(A_csc).toarray()\n",
    "eye_mat = np.eye(100)"
   ]
  },
  {
   "cell_type": "code",
   "execution_count": 20,
   "metadata": {},
   "outputs": [],
   "source": [
    "bcg = BCG(A, b, torch.zeros(100, 1, dtype=torch.double), torch.tensor(eye_mat, dtype=torch.double), \n",
    "          10^(-5), 100, detailed=True, batch_directions=False)"
   ]
  },
  {
   "cell_type": "code",
   "execution_count": 21,
   "metadata": {},
   "outputs": [],
   "source": [
    "result, sigma_F, nu, _, _ = bcg.bcg()"
   ]
  },
  {
   "cell_type": "code",
   "execution_count": 22,
   "metadata": {
    "scrolled": true
   },
   "outputs": [
    {
     "name": "stdout",
     "output_type": "stream",
     "text": [
      "0.4493867789255407\n",
      "0.4493867789255407\n",
      "0.4493867789255407\n",
      "0.4493867789255407\n",
      "0.4493867789255407\n",
      "0.4493867789255407\n",
      "0.4493867789255407\n",
      "0.4493867789255407\n",
      "0.4493867789255407\n",
      "0.4493867789255407\n",
      "0.4493867789255407\n",
      "0.4493867789255407\n",
      "0.4493867789255407\n",
      "0.4493867789255407\n",
      "0.4493867789255407\n",
      "0.4493867789255407\n",
      "0.4493867789255407\n",
      "0.4493867789255407\n",
      "0.4493867789255407\n",
      "0.4493867789255407\n",
      "0.4493867789255407\n",
      "0.4493867789255407\n",
      "0.4493867789255407\n",
      "0.4493867789255407\n",
      "0.4493867789255407\n",
      "0.4493867789255407\n",
      "0.4493867789255407\n",
      "0.4493867789255407\n",
      "0.4493867789255407\n",
      "0.4493867789255407\n",
      "0.4493867789255407\n",
      "0.4493867789255407\n",
      "0.4493867789255407\n",
      "0.4493867789255407\n",
      "0.4493867789255407\n",
      "0.4493867789255407\n",
      "0.4493867789255407\n",
      "0.4493867789255407\n",
      "0.4493867789255407\n",
      "0.4493867789255407\n",
      "0.4493867789255407\n",
      "0.4493867789255407\n",
      "0.4493867789255407\n",
      "0.4493867789255407\n",
      "0.4493867789255407\n",
      "0.4493867789255407\n",
      "0.4493867789255407\n",
      "0.4493867789255407\n",
      "0.4493867789255407\n",
      "0.4493867789255407\n",
      "0.4493867789255407\n",
      "0.4493867789255407\n",
      "0.4493867789255407\n",
      "0.4493867789255407\n",
      "0.4493867789255407\n",
      "0.4493867789255407\n",
      "0.4493867789255407\n",
      "0.4493867789255407\n",
      "0.4493867789255407\n",
      "0.4493867789255407\n",
      "0.4493867789255407\n",
      "0.4493867789255407\n",
      "0.4493867789255407\n",
      "0.4493867789255407\n",
      "0.4493867789255407\n",
      "0.4493867789255407\n",
      "0.4493867789255407\n",
      "0.4493867789255407\n",
      "0.4493867789255407\n",
      "0.4493867789255407\n",
      "0.4493867789255407\n",
      "0.4493867789255407\n",
      "0.4493867789255407\n",
      "0.4493867789255407\n",
      "0.4493867789255407\n",
      "0.4493867789255407\n",
      "0.4493867789255407\n",
      "0.4493867789255407\n",
      "0.4493867789255407\n",
      "0.4493867789255407\n",
      "0.4493867789255407\n",
      "0.4493867789255407\n",
      "0.4493867789255407\n",
      "0.4493867789255407\n",
      "0.4493867789255407\n",
      "0.4493867789255407\n",
      "0.4493867789255407\n",
      "0.4493867789255407\n",
      "0.4493867789255407\n",
      "0.4493867789255407\n",
      "0.4493867789255407\n",
      "0.4493867789255407\n",
      "0.4493867789255407\n",
      "0.4493867789255407\n",
      "0.4493867789255407\n",
      "0.4493867789255407\n",
      "0.4493867789255407\n",
      "0.4493867789255407\n",
      "0.4493867789255407\n",
      "0.4493867789255407\n"
     ]
    }
   ],
   "source": [
    "for i in range(100):\n",
    "    print(np.linalg.norm(result[i].data.numpy().reshape(100,) - x_numpy)/np.linalg.norm(x_numpy))"
   ]
  },
  {
   "cell_type": "markdown",
   "metadata": {},
   "source": [
    "## Point Estimation via CG"
   ]
  },
  {
   "cell_type": "code",
   "execution_count": 19,
   "metadata": {},
   "outputs": [],
   "source": [
    "class cg_callback(object):\n",
    "    def __init__(self):\n",
    "        self.x_m = []\n",
    "    def __call__(self, xk=None):\n",
    "        self.x_m.append(xk)"
   ]
  },
  {
   "cell_type": "code",
   "execution_count": 20,
   "metadata": {},
   "outputs": [],
   "source": [
    "cg_call = cg_callback()"
   ]
  },
  {
   "cell_type": "code",
   "execution_count": 24,
   "metadata": {},
   "outputs": [],
   "source": [
    "x_res = cg(A_csc, b.data.numpy(), x0=np.ones((100,)), maxiter=100, tol=10^(-10), callback=cg_call)"
   ]
  },
  {
   "cell_type": "code",
   "execution_count": 31,
   "metadata": {
    "collapsed": true
   },
   "outputs": [
    {
     "name": "stdout",
     "output_type": "stream",
     "text": [
      "1.128147151915888\n",
      "1.0342689882530511\n",
      "1.01360179897557\n",
      "1.0056988471771877\n",
      "1.0028423373589925\n",
      "1.001980238427534\n",
      "1.0013178040752302\n",
      "1.000893620054404\n",
      "1.0006870207233334\n",
      "1.0004489221350645\n",
      "1.0003117677129767\n",
      "1.0002443224383226\n",
      "1.0002060160711221\n",
      "1.000171805432791\n",
      "1.000149565684846\n",
      "1.0001203356571058\n",
      "1.000085185816216\n",
      "1.0000624851710738\n",
      "1.0000433044217383\n",
      "1.000028117945125\n",
      "1.0000227793368728\n",
      "1.000017256638964\n",
      "1.0000111756779546\n",
      "1.000006727015676\n",
      "1.0000029492564917\n",
      "1.000000724822386\n",
      "0.9999989979176019\n",
      "0.9999973626509693\n",
      "0.99999594667829\n",
      "0.9999944466514921\n",
      "0.999993383931789\n",
      "0.999992944883271\n",
      "0.9999926101737925\n",
      "0.999992409530679\n",
      "0.999992345409657\n",
      "0.9999924257188204\n",
      "0.9999927657939879\n",
      "0.9999930479310432\n",
      "0.9999932525623065\n",
      "0.9999934132139983\n",
      "0.9999934924468549\n",
      "0.9999936045275237\n",
      "0.99999377073953\n",
      "0.999994039760036\n",
      "0.9999943422798858\n",
      "0.9999945008971439\n",
      "0.9999947001849047\n",
      "0.9999948809786229\n",
      "0.9999950632931109\n",
      "0.9999953312483993\n",
      "0.9999956523004632\n",
      "0.9999959828149311\n",
      "0.999996330372583\n",
      "0.9999966985131956\n",
      "0.9999969482182703\n",
      "0.9999972481686383\n",
      "0.9999975128528468\n",
      "0.999997767179284\n",
      "0.9999979828430948\n",
      "0.9999981078911898\n",
      "0.9999981890950107\n",
      "0.9999982933148874\n",
      "0.9999984003912571\n",
      "0.9999985105327669\n",
      "0.9999986300124873\n",
      "0.999998711883266\n",
      "0.9999988005233701\n",
      "0.9999988785700907\n",
      "0.99999894811699\n",
      "0.9999990347813101\n",
      "0.9999991276509601\n",
      "0.9999991932524044\n",
      "0.9999992581515735\n",
      "0.9999993245753994\n",
      "0.9999993664109723\n",
      "0.9999994288475298\n",
      "0.9999994804907998\n",
      "0.9999995173980227\n",
      "0.9999995429017097\n",
      "0.9999995637666409\n",
      "0.9999995786477983\n",
      "0.999999593001626\n",
      "0.9999996082959662\n",
      "0.999999628130328\n",
      "0.9999996504308674\n",
      "0.9999996650191723\n",
      "0.9999996859346121\n",
      "0.9999997063450369\n",
      "0.9999997220442693\n",
      "0.9999997396105851\n",
      "0.9999997545731226\n",
      "0.9999997686723562\n",
      "0.999999786856053\n",
      "0.9999998101648218\n",
      "0.9999998304466955\n",
      "0.9999998533807827\n",
      "0.9999998696669037\n",
      "0.9999998820413685\n",
      "0.9999998917048432\n",
      "0.9999998986223735\n"
     ]
    }
   ],
   "source": [
    "for i in range(100):\n",
    "    print(np.linalg.norm(cg_call.x_m[i] - x_numpy)/np.linalg.norm(x_numpy)) "
   ]
  },
  {
   "cell_type": "code",
   "execution_count": 41,
   "metadata": {},
   "outputs": [],
   "source": []
  }
 ],
 "metadata": {
  "kernelspec": {
   "display_name": "Python 3",
   "language": "python",
   "name": "python3"
  },
  "language_info": {
   "codemirror_mode": {
    "name": "ipython",
    "version": 3
   },
   "file_extension": ".py",
   "mimetype": "text/x-python",
   "name": "python",
   "nbconvert_exporter": "python",
   "pygments_lexer": "ipython3",
   "version": "3.7.1"
  }
 },
 "nbformat": 4,
 "nbformat_minor": 2
}
